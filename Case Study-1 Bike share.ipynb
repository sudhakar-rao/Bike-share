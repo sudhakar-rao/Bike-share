{
 "cells": [
  {
   "cell_type": "markdown",
   "id": "1db1b987",
   "metadata": {
    "papermill": {
     "duration": 0.026671,
     "end_time": "2021-05-02T22:00:30.519588",
     "exception": false,
     "start_time": "2021-05-02T22:00:30.492917",
     "status": "completed"
    },
    "tags": []
   },
   "source": [
    "# Introduction\n",
    "This project is for the capstone project for [Google's Data Analyics Certificate](https://grow.google/dataanalytics/?utm_source=gDigital&utm_medium=paidha&utm_campaign=sem-bk-data-phr-glp-br&utm_term=data%20analytics%20google%20certification&gclid=CjwKCAjwm7mEBhBsEiwA_of-THjKDCf3ioMP-gPDbpA46oMIq13tcMtsxjYPifxRHcgApv3HEq0WTBoCpe0QAvD_BwE#?modal_active=none) [Case Study 1: How Does a Bike-Share Navigate Speedy Success?]\n",
    "Task: Identify how members use the bike share service differently than casual riders.\n",
    "Hypothesis: Members use bike for commuting to work and casual riders are tourists or riding for fun.\n",
    "\n",
    "Project completed by: Sudhakar Rao\n",
    "Date: 2021/05/28"
   ]
  },
  {
   "cell_type": "markdown",
   "id": "6ec96b92",
   "metadata": {
    "papermill": {
     "duration": 0.024391,
     "end_time": "2021-05-02T22:00:30.568819",
     "exception": false,
     "start_time": "2021-05-02T22:00:30.544428",
     "status": "completed"
    },
    "tags": []
   },
   "source": [
    "# Problem Statement\n",
    "Cyclistic bike-share wants to convert casual riders to members. The assigned task is to identify how the rider groups use the bike-share differently."
   ]
  },
  {
   "cell_type": "code",
   "execution_count": 1,
   "id": "897035fc",
   "metadata": {},
   "outputs": [
    {
     "name": "stderr",
     "output_type": "stream",
     "text": [
      "Registered S3 methods overwritten by 'ggplot2':\n",
      "  method         from \n",
      "  [.quosures     rlang\n",
      "  c.quosures     rlang\n",
      "  print.quosures rlang\n",
      "Registered S3 method overwritten by 'rvest':\n",
      "  method            from\n",
      "  read_xml.response xml2\n",
      "── Attaching packages ─────────────────────────────────────── tidyverse 1.2.1 ──\n",
      "✔ ggplot2 3.1.1       ✔ purrr   0.3.2  \n",
      "✔ tibble  2.1.1       ✔ dplyr   0.8.0.1\n",
      "✔ tidyr   0.8.3       ✔ stringr 1.4.0  \n",
      "✔ readr   1.3.1       ✔ forcats 0.4.0  \n",
      "── Conflicts ────────────────────────────────────────── tidyverse_conflicts() ──\n",
      "✖ dplyr::filter() masks stats::filter()\n",
      "✖ dplyr::lag()    masks stats::lag()\n",
      "\n",
      "Attaching package: ‘lubridate’\n",
      "\n",
      "The following object is masked from ‘package:base’:\n",
      "\n",
      "    date\n",
      "\n"
     ]
    }
   ],
   "source": [
    "library(tidyverse)\n",
    "library(lubridate)\n",
    "library(ggplot2)"
   ]
  },
  {
   "cell_type": "code",
   "execution_count": 2,
   "id": "9b1cfc53",
   "metadata": {
    "execution": {
     "iopub.execute_input": "2021-05-02T22:00:32.228886Z",
     "iopub.status.busy": "2021-05-02T22:00:32.191696Z",
     "iopub.status.idle": "2021-05-02T22:00:48.620544Z",
     "shell.execute_reply": "2021-05-02T22:00:48.619597Z"
    },
    "papermill": {
     "duration": 16.458879,
     "end_time": "2021-05-02T22:00:48.620692",
     "exception": false,
     "start_time": "2021-05-02T22:00:32.161813",
     "status": "completed"
    },
    "tags": []
   },
   "outputs": [
    {
     "name": "stderr",
     "output_type": "stream",
     "text": [
      "Parsed with column specification:\n",
      "cols(\n",
      "  `01 - Rental Details Rental ID` = col_double(),\n",
      "  `01 - Rental Details Local Start Time` = col_datetime(format = \"\"),\n",
      "  `01 - Rental Details Local End Time` = col_datetime(format = \"\"),\n",
      "  `01 - Rental Details Bike ID` = col_double(),\n",
      "  `01 - Rental Details Duration In Seconds Uncapped` = col_number(),\n",
      "  `03 - Rental Start Station ID` = col_double(),\n",
      "  `03 - Rental Start Station Name` = col_character(),\n",
      "  `02 - Rental End Station ID` = col_double(),\n",
      "  `02 - Rental End Station Name` = col_character(),\n",
      "  `User Type` = col_character(),\n",
      "  `Member Gender` = col_character(),\n",
      "  `05 - Member Details Member Birthday Year` = col_double()\n",
      ")\n",
      "Parsed with column specification:\n",
      "cols(\n",
      "  trip_id = col_double(),\n",
      "  start_time = col_datetime(format = \"\"),\n",
      "  end_time = col_datetime(format = \"\"),\n",
      "  bikeid = col_double(),\n",
      "  tripduration = col_number(),\n",
      "  from_station_id = col_double(),\n",
      "  from_station_name = col_character(),\n",
      "  to_station_id = col_double(),\n",
      "  to_station_name = col_character(),\n",
      "  usertype = col_character(),\n",
      "  gender = col_character(),\n",
      "  birthyear = col_double()\n",
      ")\n",
      "Parsed with column specification:\n",
      "cols(\n",
      "  trip_id = col_double(),\n",
      "  start_time = col_datetime(format = \"\"),\n",
      "  end_time = col_datetime(format = \"\"),\n",
      "  bikeid = col_double(),\n",
      "  tripduration = col_number(),\n",
      "  from_station_id = col_double(),\n",
      "  from_station_name = col_character(),\n",
      "  to_station_id = col_double(),\n",
      "  to_station_name = col_character(),\n",
      "  usertype = col_character(),\n",
      "  gender = col_character(),\n",
      "  birthyear = col_double()\n",
      ")\n",
      "Parsed with column specification:\n",
      "cols(\n",
      "  ride_id = col_character(),\n",
      "  rideable_type = col_character(),\n",
      "  started_at = col_datetime(format = \"\"),\n",
      "  ended_at = col_datetime(format = \"\"),\n",
      "  start_station_name = col_character(),\n",
      "  start_station_id = col_double(),\n",
      "  end_station_name = col_character(),\n",
      "  end_station_id = col_double(),\n",
      "  start_lat = col_double(),\n",
      "  start_lng = col_double(),\n",
      "  end_lat = col_double(),\n",
      "  end_lng = col_double(),\n",
      "  member_casual = col_character()\n",
      ")\n"
     ]
    }
   ],
   "source": [
    "q2_2019 <- read_csv(\"/home/sudhakar/Downloads/Bike_Share_Data/Divvy_Trips_2019_Q2.csv\")\n",
    "q3_2019 <- read_csv(\"/home/sudhakar/Downloads/Bike_Share_Data/Divvy_Trips_2019_Q3.csv\")\n",
    "q4_2019 <- read_csv(\"/home/sudhakar/Downloads/Bike_Share_Data/Divvy_Trips_2019_Q4.csv\")\n",
    "q1_2020 <- read_csv(\"/home/sudhakar/Downloads/Bike_Share_Data/Divvy_Trips_2020_Q1.csv\")"
   ]
  },
  {
   "cell_type": "markdown",
   "id": "a06577bb",
   "metadata": {
    "papermill": {
     "duration": 0.027464,
     "end_time": "2021-05-02T22:00:48.675987",
     "exception": false,
     "start_time": "2021-05-02T22:00:48.648523",
     "status": "completed"
    },
    "tags": []
   },
   "source": [
    "### Cleaning Data"
   ]
  },
  {
   "cell_type": "code",
   "execution_count": 3,
   "id": "25097b2e",
   "metadata": {
    "execution": {
     "iopub.execute_input": "2021-05-02T22:00:48.735813Z",
     "iopub.status.busy": "2021-05-02T22:00:48.734540Z",
     "iopub.status.idle": "2021-05-02T22:00:48.768073Z",
     "shell.execute_reply": "2021-05-02T22:00:48.766670Z"
    },
    "papermill": {
     "duration": 0.064864,
     "end_time": "2021-05-02T22:00:48.768223",
     "exception": false,
     "start_time": "2021-05-02T22:00:48.703359",
     "status": "completed"
    },
    "tags": []
   },
   "outputs": [
    {
     "data": {
      "text/html": [
       "<ol class=list-inline>\n",
       "\t<li>'01 - Rental Details Rental ID'</li>\n",
       "\t<li>'01 - Rental Details Local Start Time'</li>\n",
       "\t<li>'01 - Rental Details Local End Time'</li>\n",
       "\t<li>'01 - Rental Details Bike ID'</li>\n",
       "\t<li>'01 - Rental Details Duration In Seconds Uncapped'</li>\n",
       "\t<li>'03 - Rental Start Station ID'</li>\n",
       "\t<li>'03 - Rental Start Station Name'</li>\n",
       "\t<li>'02 - Rental End Station ID'</li>\n",
       "\t<li>'02 - Rental End Station Name'</li>\n",
       "\t<li>'User Type'</li>\n",
       "\t<li>'Member Gender'</li>\n",
       "\t<li>'05 - Member Details Member Birthday Year'</li>\n",
       "</ol>\n"
      ],
      "text/latex": [
       "\\begin{enumerate*}\n",
       "\\item '01 - Rental Details Rental ID'\n",
       "\\item '01 - Rental Details Local Start Time'\n",
       "\\item '01 - Rental Details Local End Time'\n",
       "\\item '01 - Rental Details Bike ID'\n",
       "\\item '01 - Rental Details Duration In Seconds Uncapped'\n",
       "\\item '03 - Rental Start Station ID'\n",
       "\\item '03 - Rental Start Station Name'\n",
       "\\item '02 - Rental End Station ID'\n",
       "\\item '02 - Rental End Station Name'\n",
       "\\item 'User Type'\n",
       "\\item 'Member Gender'\n",
       "\\item '05 - Member Details Member Birthday Year'\n",
       "\\end{enumerate*}\n"
      ],
      "text/markdown": [
       "1. '01 - Rental Details Rental ID'\n",
       "2. '01 - Rental Details Local Start Time'\n",
       "3. '01 - Rental Details Local End Time'\n",
       "4. '01 - Rental Details Bike ID'\n",
       "5. '01 - Rental Details Duration In Seconds Uncapped'\n",
       "6. '03 - Rental Start Station ID'\n",
       "7. '03 - Rental Start Station Name'\n",
       "8. '02 - Rental End Station ID'\n",
       "9. '02 - Rental End Station Name'\n",
       "10. 'User Type'\n",
       "11. 'Member Gender'\n",
       "12. '05 - Member Details Member Birthday Year'\n",
       "\n",
       "\n"
      ],
      "text/plain": [
       " [1] \"01 - Rental Details Rental ID\"                   \n",
       " [2] \"01 - Rental Details Local Start Time\"            \n",
       " [3] \"01 - Rental Details Local End Time\"              \n",
       " [4] \"01 - Rental Details Bike ID\"                     \n",
       " [5] \"01 - Rental Details Duration In Seconds Uncapped\"\n",
       " [6] \"03 - Rental Start Station ID\"                    \n",
       " [7] \"03 - Rental Start Station Name\"                  \n",
       " [8] \"02 - Rental End Station ID\"                      \n",
       " [9] \"02 - Rental End Station Name\"                    \n",
       "[10] \"User Type\"                                       \n",
       "[11] \"Member Gender\"                                   \n",
       "[12] \"05 - Member Details Member Birthday Year\"        "
      ]
     },
     "metadata": {},
     "output_type": "display_data"
    },
    {
     "data": {
      "text/html": [
       "<ol class=list-inline>\n",
       "\t<li>'trip_id'</li>\n",
       "\t<li>'start_time'</li>\n",
       "\t<li>'end_time'</li>\n",
       "\t<li>'bikeid'</li>\n",
       "\t<li>'tripduration'</li>\n",
       "\t<li>'from_station_id'</li>\n",
       "\t<li>'from_station_name'</li>\n",
       "\t<li>'to_station_id'</li>\n",
       "\t<li>'to_station_name'</li>\n",
       "\t<li>'usertype'</li>\n",
       "\t<li>'gender'</li>\n",
       "\t<li>'birthyear'</li>\n",
       "</ol>\n"
      ],
      "text/latex": [
       "\\begin{enumerate*}\n",
       "\\item 'trip\\_id'\n",
       "\\item 'start\\_time'\n",
       "\\item 'end\\_time'\n",
       "\\item 'bikeid'\n",
       "\\item 'tripduration'\n",
       "\\item 'from\\_station\\_id'\n",
       "\\item 'from\\_station\\_name'\n",
       "\\item 'to\\_station\\_id'\n",
       "\\item 'to\\_station\\_name'\n",
       "\\item 'usertype'\n",
       "\\item 'gender'\n",
       "\\item 'birthyear'\n",
       "\\end{enumerate*}\n"
      ],
      "text/markdown": [
       "1. 'trip_id'\n",
       "2. 'start_time'\n",
       "3. 'end_time'\n",
       "4. 'bikeid'\n",
       "5. 'tripduration'\n",
       "6. 'from_station_id'\n",
       "7. 'from_station_name'\n",
       "8. 'to_station_id'\n",
       "9. 'to_station_name'\n",
       "10. 'usertype'\n",
       "11. 'gender'\n",
       "12. 'birthyear'\n",
       "\n",
       "\n"
      ],
      "text/plain": [
       " [1] \"trip_id\"           \"start_time\"        \"end_time\"         \n",
       " [4] \"bikeid\"            \"tripduration\"      \"from_station_id\"  \n",
       " [7] \"from_station_name\" \"to_station_id\"     \"to_station_name\"  \n",
       "[10] \"usertype\"          \"gender\"            \"birthyear\"        "
      ]
     },
     "metadata": {},
     "output_type": "display_data"
    },
    {
     "data": {
      "text/html": [
       "<ol class=list-inline>\n",
       "\t<li>'trip_id'</li>\n",
       "\t<li>'start_time'</li>\n",
       "\t<li>'end_time'</li>\n",
       "\t<li>'bikeid'</li>\n",
       "\t<li>'tripduration'</li>\n",
       "\t<li>'from_station_id'</li>\n",
       "\t<li>'from_station_name'</li>\n",
       "\t<li>'to_station_id'</li>\n",
       "\t<li>'to_station_name'</li>\n",
       "\t<li>'usertype'</li>\n",
       "\t<li>'gender'</li>\n",
       "\t<li>'birthyear'</li>\n",
       "</ol>\n"
      ],
      "text/latex": [
       "\\begin{enumerate*}\n",
       "\\item 'trip\\_id'\n",
       "\\item 'start\\_time'\n",
       "\\item 'end\\_time'\n",
       "\\item 'bikeid'\n",
       "\\item 'tripduration'\n",
       "\\item 'from\\_station\\_id'\n",
       "\\item 'from\\_station\\_name'\n",
       "\\item 'to\\_station\\_id'\n",
       "\\item 'to\\_station\\_name'\n",
       "\\item 'usertype'\n",
       "\\item 'gender'\n",
       "\\item 'birthyear'\n",
       "\\end{enumerate*}\n"
      ],
      "text/markdown": [
       "1. 'trip_id'\n",
       "2. 'start_time'\n",
       "3. 'end_time'\n",
       "4. 'bikeid'\n",
       "5. 'tripduration'\n",
       "6. 'from_station_id'\n",
       "7. 'from_station_name'\n",
       "8. 'to_station_id'\n",
       "9. 'to_station_name'\n",
       "10. 'usertype'\n",
       "11. 'gender'\n",
       "12. 'birthyear'\n",
       "\n",
       "\n"
      ],
      "text/plain": [
       " [1] \"trip_id\"           \"start_time\"        \"end_time\"         \n",
       " [4] \"bikeid\"            \"tripduration\"      \"from_station_id\"  \n",
       " [7] \"from_station_name\" \"to_station_id\"     \"to_station_name\"  \n",
       "[10] \"usertype\"          \"gender\"            \"birthyear\"        "
      ]
     },
     "metadata": {},
     "output_type": "display_data"
    },
    {
     "data": {
      "text/html": [
       "<ol class=list-inline>\n",
       "\t<li>'ride_id'</li>\n",
       "\t<li>'rideable_type'</li>\n",
       "\t<li>'started_at'</li>\n",
       "\t<li>'ended_at'</li>\n",
       "\t<li>'start_station_name'</li>\n",
       "\t<li>'start_station_id'</li>\n",
       "\t<li>'end_station_name'</li>\n",
       "\t<li>'end_station_id'</li>\n",
       "\t<li>'start_lat'</li>\n",
       "\t<li>'start_lng'</li>\n",
       "\t<li>'end_lat'</li>\n",
       "\t<li>'end_lng'</li>\n",
       "\t<li>'member_casual'</li>\n",
       "</ol>\n"
      ],
      "text/latex": [
       "\\begin{enumerate*}\n",
       "\\item 'ride\\_id'\n",
       "\\item 'rideable\\_type'\n",
       "\\item 'started\\_at'\n",
       "\\item 'ended\\_at'\n",
       "\\item 'start\\_station\\_name'\n",
       "\\item 'start\\_station\\_id'\n",
       "\\item 'end\\_station\\_name'\n",
       "\\item 'end\\_station\\_id'\n",
       "\\item 'start\\_lat'\n",
       "\\item 'start\\_lng'\n",
       "\\item 'end\\_lat'\n",
       "\\item 'end\\_lng'\n",
       "\\item 'member\\_casual'\n",
       "\\end{enumerate*}\n"
      ],
      "text/markdown": [
       "1. 'ride_id'\n",
       "2. 'rideable_type'\n",
       "3. 'started_at'\n",
       "4. 'ended_at'\n",
       "5. 'start_station_name'\n",
       "6. 'start_station_id'\n",
       "7. 'end_station_name'\n",
       "8. 'end_station_id'\n",
       "9. 'start_lat'\n",
       "10. 'start_lng'\n",
       "11. 'end_lat'\n",
       "12. 'end_lng'\n",
       "13. 'member_casual'\n",
       "\n",
       "\n"
      ],
      "text/plain": [
       " [1] \"ride_id\"            \"rideable_type\"      \"started_at\"        \n",
       " [4] \"ended_at\"           \"start_station_name\" \"start_station_id\"  \n",
       " [7] \"end_station_name\"   \"end_station_id\"     \"start_lat\"         \n",
       "[10] \"start_lng\"          \"end_lat\"            \"end_lng\"           \n",
       "[13] \"member_casual\"     "
      ]
     },
     "metadata": {},
     "output_type": "display_data"
    }
   ],
   "source": [
    "colnames(q2_2019)\n",
    "colnames(q3_2019)\n",
    "colnames(q4_2019)\n",
    "colnames(q1_2020)"
   ]
  },
  {
   "cell_type": "markdown",
   "id": "fe1e6d4e",
   "metadata": {
    "papermill": {
     "duration": 0.030674,
     "end_time": "2021-05-02T22:00:48.830324",
     "exception": false,
     "start_time": "2021-05-02T22:00:48.799650",
     "status": "completed"
    },
    "tags": []
   },
   "source": [
    "## Renaming and Columns q2_2019"
   ]
  },
  {
   "cell_type": "code",
   "execution_count": 4,
   "id": "9c8bbad8",
   "metadata": {
    "execution": {
     "iopub.execute_input": "2021-05-02T22:00:48.896548Z",
     "iopub.status.busy": "2021-05-02T22:00:48.895182Z",
     "iopub.status.idle": "2021-05-02T22:00:48.968384Z",
     "shell.execute_reply": "2021-05-02T22:00:48.967266Z"
    },
    "papermill": {
     "duration": 0.107743,
     "end_time": "2021-05-02T22:00:48.968535",
     "exception": false,
     "start_time": "2021-05-02T22:00:48.860792",
     "status": "completed"
    },
    "tags": []
   },
   "outputs": [],
   "source": [
    "q4_2019 <- q4_2019 %>%\n",
    "    rename(ride_id = trip_id)%>%\n",
    "    rename(rideable_type = bikeid)%>%\n",
    "    rename(started_at = start_time)%>%\n",
    "    rename(ended_at = end_time)%>%\n",
    "    rename(start_station_name = from_station_name)%>%\n",
    "    rename(start_station_id = from_station_id)%>%\n",
    "    rename(end_station_name = to_station_name)%>%\n",
    "    rename(end_station_id = to_station_id)%>%\n",
    "    rename(member_casual = usertype)\n",
    "q3_2019 <- q3_2019 %>%\n",
    "    rename(ride_id = trip_id)%>%\n",
    "    rename(rideable_type = bikeid)%>%\n",
    "    rename(started_at = start_time)%>%\n",
    "    rename(ended_at = end_time)%>%\n",
    "    rename(start_station_name = from_station_name)%>%\n",
    "    rename(start_station_id = from_station_id)%>%\n",
    "    rename(end_station_name = to_station_name)%>%\n",
    "    rename(end_station_id = to_station_id)%>%\n",
    "    rename(member_casual = usertype)\n",
    "q2_2019 <- q2_2019 %>%\n",
    "    rename(ride_id = '01 - Rental Details Rental ID')%>%\n",
    "    rename(rideable_type = '01 - Rental Details Bike ID')%>%\n",
    "    rename(started_at = '01 - Rental Details Local Start Time') %>%\n",
    "    rename(ended_at = '01 - Rental Details Local End Time') %>%\n",
    "    rename(start_station_name = '03 - Rental Start Station Name') %>%\n",
    "    rename(start_station_id = '03 - Rental Start Station ID') %>%\n",
    "    rename(end_station_name = '02 - Rental End Station Name') %>%\n",
    "    rename(end_station_id = '02 - Rental End Station ID') %>%\n",
    "    rename(member_casual = 'User Type') %>%\n",
    "    rename(gender = 'Member Gender') %>%\n",
    "    rename(birthyear = '05 - Member Details Member Birthday Year')"
   ]
  },
  {
   "cell_type": "markdown",
   "id": "729fc170",
   "metadata": {
    "papermill": {
     "duration": 0.030675,
     "end_time": "2021-05-02T22:00:49.031017",
     "exception": false,
     "start_time": "2021-05-02T22:00:49.000342",
     "status": "completed"
    },
    "tags": []
   },
   "source": [
    "## Convert data type to character to be consistent with q1_2020"
   ]
  },
  {
   "cell_type": "code",
   "execution_count": 5,
   "id": "e4c40307",
   "metadata": {
    "execution": {
     "iopub.execute_input": "2021-05-02T22:00:49.158128Z",
     "iopub.status.busy": "2021-05-02T22:00:49.096408Z",
     "iopub.status.idle": "2021-05-02T22:00:49.180740Z",
     "shell.execute_reply": "2021-05-02T22:00:49.179309Z"
    },
    "papermill": {
     "duration": 0.119379,
     "end_time": "2021-05-02T22:00:49.180925",
     "exception": false,
     "start_time": "2021-05-02T22:00:49.061546",
     "status": "completed"
    },
    "tags": []
   },
   "outputs": [],
   "source": [
    "q4_2019$ride_id = as.character(q4_2019$ride_id)\n",
    "q4_2019$rideable_type = as.character(q4_2019$rideable_type)\n",
    "\n",
    "q3_2019$ride_id = as.character(q3_2019$ride_id)\n",
    "q3_2019$rideable_type = as.character(q3_2019$rideable_type)\n",
    "\n",
    "q2_2019$ride_id = as.character(q2_2019$ride_id)\n",
    "q2_2019$rideable_type = as.character(q2_2019$rideable_type)"
   ]
  },
  {
   "cell_type": "markdown",
   "id": "6acd7540",
   "metadata": {
    "papermill": {
     "duration": 0.030869,
     "end_time": "2021-05-02T22:00:49.242159",
     "exception": false,
     "start_time": "2021-05-02T22:00:49.211290",
     "status": "completed"
    },
    "tags": []
   },
   "source": [
    "## Checking work to confirm Coumns have been renamed and data type is consistent"
   ]
  },
  {
   "cell_type": "code",
   "execution_count": 6,
   "id": "11ecda90",
   "metadata": {
    "execution": {
     "iopub.execute_input": "2021-05-02T22:00:49.309022Z",
     "iopub.status.busy": "2021-05-02T22:00:49.307197Z",
     "iopub.status.idle": "2021-05-02T22:00:49.440542Z",
     "shell.execute_reply": "2021-05-02T22:00:49.438935Z"
    },
    "papermill": {
     "duration": 0.168245,
     "end_time": "2021-05-02T22:00:49.440743",
     "exception": false,
     "start_time": "2021-05-02T22:00:49.272498",
     "status": "completed"
    },
    "tags": []
   },
   "outputs": [
    {
     "name": "stdout",
     "output_type": "stream",
     "text": [
      "Classes ‘spec_tbl_df’, ‘tbl_df’, ‘tbl’ and 'data.frame':\t1108163 obs. of  12 variables:\n",
      " $ ride_id                                         : chr  \"22178529\" \"22178530\" \"22178531\" \"22178532\" ...\n",
      " $ started_at                                      : POSIXct, format: \"2019-04-01 00:02:22\" \"2019-04-01 00:03:02\" ...\n",
      " $ ended_at                                        : POSIXct, format: \"2019-04-01 00:09:48\" \"2019-04-01 00:20:30\" ...\n",
      " $ rideable_type                                   : chr  \"6251\" \"6226\" \"5649\" \"4151\" ...\n",
      " $ 01 - Rental Details Duration In Seconds Uncapped: num  446 1048 252 357 1007 ...\n",
      " $ start_station_id                                : num  81 317 283 26 202 420 503 260 211 211 ...\n",
      " $ start_station_name                              : chr  \"Daley Center Plaza\" \"Wood St & Taylor St\" \"LaSalle St & Jackson Blvd\" \"McClurg Ct & Illinois St\" ...\n",
      " $ end_station_id                                  : num  56 59 174 133 129 426 500 499 211 211 ...\n",
      " $ end_station_name                                : chr  \"Desplaines St & Kinzie St\" \"Wabash Ave & Roosevelt Rd\" \"Canal St & Madison St\" \"Kingsbury St & Kinzie St\" ...\n",
      " $ member_casual                                   : chr  \"Subscriber\" \"Subscriber\" \"Subscriber\" \"Subscriber\" ...\n",
      " $ gender                                          : chr  \"Male\" \"Female\" \"Male\" \"Male\" ...\n",
      " $ birthyear                                       : num  1975 1984 1990 1993 1992 ...\n",
      " - attr(*, \"spec\")=\n",
      "  .. cols(\n",
      "  ..   `01 - Rental Details Rental ID` = col_double(),\n",
      "  ..   `01 - Rental Details Local Start Time` = col_datetime(format = \"\"),\n",
      "  ..   `01 - Rental Details Local End Time` = col_datetime(format = \"\"),\n",
      "  ..   `01 - Rental Details Bike ID` = col_double(),\n",
      "  ..   `01 - Rental Details Duration In Seconds Uncapped` = col_number(),\n",
      "  ..   `03 - Rental Start Station ID` = col_double(),\n",
      "  ..   `03 - Rental Start Station Name` = col_character(),\n",
      "  ..   `02 - Rental End Station ID` = col_double(),\n",
      "  ..   `02 - Rental End Station Name` = col_character(),\n",
      "  ..   `User Type` = col_character(),\n",
      "  ..   `Member Gender` = col_character(),\n",
      "  ..   `05 - Member Details Member Birthday Year` = col_double()\n",
      "  .. )\n",
      "Classes ‘spec_tbl_df’, ‘tbl_df’, ‘tbl’ and 'data.frame':\t1640718 obs. of  12 variables:\n",
      " $ ride_id           : chr  \"23479388\" \"23479389\" \"23479390\" \"23479391\" ...\n",
      " $ started_at        : POSIXct, format: \"2019-07-01 00:00:27\" \"2019-07-01 00:01:16\" ...\n",
      " $ ended_at          : POSIXct, format: \"2019-07-01 00:20:41\" \"2019-07-01 00:18:44\" ...\n",
      " $ rideable_type     : chr  \"3591\" \"5353\" \"6180\" \"5540\" ...\n",
      " $ tripduration      : num  1214 1048 1554 1503 1213 ...\n",
      " $ start_station_id  : num  117 381 313 313 168 300 168 313 43 43 ...\n",
      " $ start_station_name: chr  \"Wilton Ave & Belmont Ave\" \"Western Ave & Monroe St\" \"Lakeview Ave & Fullerton Pkwy\" \"Lakeview Ave & Fullerton Pkwy\" ...\n",
      " $ end_station_id    : num  497 203 144 144 62 232 62 144 195 195 ...\n",
      " $ end_station_name  : chr  \"Kimball Ave & Belmont Ave\" \"Western Ave & 21st St\" \"Larrabee St & Webster Ave\" \"Larrabee St & Webster Ave\" ...\n",
      " $ member_casual     : chr  \"Subscriber\" \"Customer\" \"Customer\" \"Customer\" ...\n",
      " $ gender            : chr  \"Male\" NA NA NA ...\n",
      " $ birthyear         : num  1992 NA NA NA NA ...\n",
      " - attr(*, \"spec\")=\n",
      "  .. cols(\n",
      "  ..   trip_id = col_double(),\n",
      "  ..   start_time = col_datetime(format = \"\"),\n",
      "  ..   end_time = col_datetime(format = \"\"),\n",
      "  ..   bikeid = col_double(),\n",
      "  ..   tripduration = col_number(),\n",
      "  ..   from_station_id = col_double(),\n",
      "  ..   from_station_name = col_character(),\n",
      "  ..   to_station_id = col_double(),\n",
      "  ..   to_station_name = col_character(),\n",
      "  ..   usertype = col_character(),\n",
      "  ..   gender = col_character(),\n",
      "  ..   birthyear = col_double()\n",
      "  .. )\n",
      "Classes ‘spec_tbl_df’, ‘tbl_df’, ‘tbl’ and 'data.frame':\t704054 obs. of  12 variables:\n",
      " $ ride_id           : chr  \"25223640\" \"25223641\" \"25223642\" \"25223643\" ...\n",
      " $ started_at        : POSIXct, format: \"2019-10-01 00:01:39\" \"2019-10-01 00:02:16\" ...\n",
      " $ ended_at          : POSIXct, format: \"2019-10-01 00:17:20\" \"2019-10-01 00:06:34\" ...\n",
      " $ rideable_type     : chr  \"2215\" \"6328\" \"3003\" \"3275\" ...\n",
      " $ tripduration      : num  940 258 850 2350 1867 ...\n",
      " $ start_station_id  : num  20 19 84 313 210 156 84 156 156 336 ...\n",
      " $ start_station_name: chr  \"Sheffield Ave & Kingsbury St\" \"Throop (Loomis) St & Taylor St\" \"Milwaukee Ave & Grand Ave\" \"Lakeview Ave & Fullerton Pkwy\" ...\n",
      " $ end_station_id    : num  309 241 199 290 382 226 142 463 463 336 ...\n",
      " $ end_station_name  : chr  \"Leavitt St & Armitage Ave\" \"Morgan St & Polk St\" \"Wabash Ave & Grand Ave\" \"Kedzie Ave & Palmer Ct\" ...\n",
      " $ member_casual     : chr  \"Subscriber\" \"Subscriber\" \"Subscriber\" \"Subscriber\" ...\n",
      " $ gender            : chr  \"Male\" \"Male\" \"Female\" \"Male\" ...\n",
      " $ birthyear         : num  1987 1998 1991 1990 1987 ...\n",
      " - attr(*, \"spec\")=\n",
      "  .. cols(\n",
      "  ..   trip_id = col_double(),\n",
      "  ..   start_time = col_datetime(format = \"\"),\n",
      "  ..   end_time = col_datetime(format = \"\"),\n",
      "  ..   bikeid = col_double(),\n",
      "  ..   tripduration = col_number(),\n",
      "  ..   from_station_id = col_double(),\n",
      "  ..   from_station_name = col_character(),\n",
      "  ..   to_station_id = col_double(),\n",
      "  ..   to_station_name = col_character(),\n",
      "  ..   usertype = col_character(),\n",
      "  ..   gender = col_character(),\n",
      "  ..   birthyear = col_double()\n",
      "  .. )\n",
      "Classes ‘spec_tbl_df’, ‘tbl_df’, ‘tbl’ and 'data.frame':\t426887 obs. of  13 variables:\n",
      " $ ride_id           : chr  \"EACB19130B0CDA4A\" \"8FED874C809DC021\" \"789F3C21E472CA96\" \"C9A388DAC6ABF313\" ...\n",
      " $ rideable_type     : chr  \"docked_bike\" \"docked_bike\" \"docked_bike\" \"docked_bike\" ...\n",
      " $ started_at        : POSIXct, format: \"2020-01-21 20:06:59\" \"2020-01-30 14:22:39\" ...\n",
      " $ ended_at          : POSIXct, format: \"2020-01-21 20:14:30\" \"2020-01-30 14:26:22\" ...\n",
      " $ start_station_name: chr  \"Western Ave & Leland Ave\" \"Clark St & Montrose Ave\" \"Broadway & Belmont Ave\" \"Clark St & Randolph St\" ...\n",
      " $ start_station_id  : num  239 234 296 51 66 212 96 96 212 38 ...\n",
      " $ end_station_name  : chr  \"Clark St & Leland Ave\" \"Southport Ave & Irving Park Rd\" \"Wilton Ave & Belmont Ave\" \"Fairbanks Ct & Grand Ave\" ...\n",
      " $ end_station_id    : num  326 318 117 24 212 96 212 212 96 100 ...\n",
      " $ start_lat         : num  42 42 41.9 41.9 41.9 ...\n",
      " $ start_lng         : num  -87.7 -87.7 -87.6 -87.6 -87.6 ...\n",
      " $ end_lat           : num  42 42 41.9 41.9 41.9 ...\n",
      " $ end_lng           : num  -87.7 -87.7 -87.7 -87.6 -87.6 ...\n",
      " $ member_casual     : chr  \"member\" \"member\" \"member\" \"member\" ...\n",
      " - attr(*, \"spec\")=\n",
      "  .. cols(\n",
      "  ..   ride_id = col_character(),\n",
      "  ..   rideable_type = col_character(),\n",
      "  ..   started_at = col_datetime(format = \"\"),\n",
      "  ..   ended_at = col_datetime(format = \"\"),\n",
      "  ..   start_station_name = col_character(),\n",
      "  ..   start_station_id = col_double(),\n",
      "  ..   end_station_name = col_character(),\n",
      "  ..   end_station_id = col_double(),\n",
      "  ..   start_lat = col_double(),\n",
      "  ..   start_lng = col_double(),\n",
      "  ..   end_lat = col_double(),\n",
      "  ..   end_lng = col_double(),\n",
      "  ..   member_casual = col_character()\n",
      "  .. )\n"
     ]
    }
   ],
   "source": [
    "str(q2_2019)\n",
    "str(q3_2019)\n",
    "str(q4_2019)\n",
    "str(q1_2020)"
   ]
  },
  {
   "cell_type": "markdown",
   "id": "0e529a47",
   "metadata": {
    "papermill": {
     "duration": 0.033357,
     "end_time": "2021-05-02T22:00:49.507352",
     "exception": false,
     "start_time": "2021-05-02T22:00:49.473995",
     "status": "completed"
    },
    "tags": []
   },
   "source": [
    "## Combining data into one dataframe"
   ]
  },
  {
   "cell_type": "code",
   "execution_count": 7,
   "id": "0ac89dc0",
   "metadata": {
    "execution": {
     "iopub.execute_input": "2021-05-02T22:00:49.578665Z",
     "iopub.status.busy": "2021-05-02T22:00:49.577427Z",
     "iopub.status.idle": "2021-05-02T22:01:02.773009Z",
     "shell.execute_reply": "2021-05-02T22:01:02.771905Z"
    },
    "papermill": {
     "duration": 13.231995,
     "end_time": "2021-05-02T22:01:02.773209",
     "exception": false,
     "start_time": "2021-05-02T22:00:49.541214",
     "status": "completed"
    },
    "tags": []
   },
   "outputs": [],
   "source": [
    "all_trips <- bind_rows(q2_2019, q3_2019, q4_2019, q1_2020)"
   ]
  },
  {
   "cell_type": "markdown",
   "id": "1af5a517",
   "metadata": {
    "papermill": {
     "duration": 0.032066,
     "end_time": "2021-05-02T22:01:02.837794",
     "exception": false,
     "start_time": "2021-05-02T22:01:02.805728",
     "status": "completed"
    },
    "tags": []
   },
   "source": [
    "## Removing columns that arent' needed"
   ]
  },
  {
   "cell_type": "code",
   "execution_count": 8,
   "id": "2a5e54c6",
   "metadata": {
    "execution": {
     "iopub.execute_input": "2021-05-02T22:01:02.909490Z",
     "iopub.status.busy": "2021-05-02T22:01:02.908181Z",
     "iopub.status.idle": "2021-05-02T22:01:02.931489Z",
     "shell.execute_reply": "2021-05-02T22:01:02.929522Z"
    },
    "papermill": {
     "duration": 0.059887,
     "end_time": "2021-05-02T22:01:02.931648",
     "exception": false,
     "start_time": "2021-05-02T22:01:02.871761",
     "status": "completed"
    },
    "tags": []
   },
   "outputs": [],
   "source": [
    "all_trips <- all_trips %>%\n",
    "    select(-c(start_lat, start_lng, end_lat, end_lng, birthyear, gender, \"01 - Rental Details Duration In Seconds Uncapped\", tripduration))"
   ]
  },
  {
   "cell_type": "code",
   "execution_count": 9,
   "id": "d4f85d79",
   "metadata": {
    "execution": {
     "iopub.execute_input": "2021-05-02T22:01:03.001756Z",
     "iopub.status.busy": "2021-05-02T22:01:02.999915Z",
     "iopub.status.idle": "2021-05-02T22:01:04.812898Z",
     "shell.execute_reply": "2021-05-02T22:01:04.811535Z"
    },
    "papermill": {
     "duration": 1.849416,
     "end_time": "2021-05-02T22:01:04.813170",
     "exception": false,
     "start_time": "2021-05-02T22:01:02.963754",
     "status": "completed"
    },
    "tags": []
   },
   "outputs": [
    {
     "name": "stdout",
     "output_type": "stream",
     "text": [
      "Observations: 3,879,822\n",
      "Variables: 9\n",
      "$ ride_id            <chr> \"22178529\", \"22178530\", \"22178531\", \"22178532\", \"2…\n",
      "$ started_at         <dttm> 2019-04-01 00:02:22, 2019-04-01 00:03:02, 2019-04…\n",
      "$ ended_at           <dttm> 2019-04-01 00:09:48, 2019-04-01 00:20:30, 2019-04…\n",
      "$ rideable_type      <chr> \"6251\", \"6226\", \"5649\", \"4151\", \"3270\", \"3123\", \"6…\n",
      "$ start_station_id   <dbl> 81, 317, 283, 26, 202, 420, 503, 260, 211, 211, 30…\n",
      "$ start_station_name <chr> \"Daley Center Plaza\", \"Wood St & Taylor St\", \"LaSa…\n",
      "$ end_station_id     <dbl> 56, 59, 174, 133, 129, 426, 500, 499, 211, 211, 23…\n",
      "$ end_station_name   <chr> \"Desplaines St & Kinzie St\", \"Wabash Ave & Rooseve…\n",
      "$ member_casual      <chr> \"Subscriber\", \"Subscriber\", \"Subscriber\", \"Subscri…\n"
     ]
    },
    {
     "data": {
      "text/html": [
       "3879822"
      ],
      "text/latex": [
       "3879822"
      ],
      "text/markdown": [
       "3879822"
      ],
      "text/plain": [
       "[1] 3879822"
      ]
     },
     "metadata": {},
     "output_type": "display_data"
    },
    {
     "data": {
      "text/plain": [
       "   ride_id            started_at                     ended_at                  \n",
       " Length:3879822     Min.   :2019-04-01 00:02:22   Min.   :2019-04-01 00:09:48  \n",
       " Class :character   1st Qu.:2019-06-23 07:49:09   1st Qu.:2019-06-23 08:20:27  \n",
       " Mode  :character   Median :2019-08-14 17:43:38   Median :2019-08-14 18:02:04  \n",
       "                    Mean   :2019-08-26 00:49:59   Mean   :2019-08-26 01:14:37  \n",
       "                    3rd Qu.:2019-10-12 12:10:21   3rd Qu.:2019-10-12 12:36:16  \n",
       "                    Max.   :2020-03-31 23:51:34   Max.   :2020-05-19 20:10:34  \n",
       "                                                                               \n",
       " rideable_type      start_station_id start_station_name end_station_id \n",
       " Length:3879822     Min.   :  1.0    Length:3879822     Min.   :  1.0  \n",
       " Class :character   1st Qu.: 77.0    Class :character   1st Qu.: 77.0  \n",
       " Mode  :character   Median :174.0    Mode  :character   Median :174.0  \n",
       "                    Mean   :202.9                       Mean   :203.8  \n",
       "                    3rd Qu.:291.0                       3rd Qu.:291.0  \n",
       "                    Max.   :675.0                       Max.   :675.0  \n",
       "                                                        NA's   :1      \n",
       " end_station_name   member_casual     \n",
       " Length:3879822     Length:3879822    \n",
       " Class :character   Class :character  \n",
       " Mode  :character   Mode  :character  \n",
       "                                      \n",
       "                                      \n",
       "                                      \n",
       "                                      "
      ]
     },
     "metadata": {},
     "output_type": "display_data"
    }
   ],
   "source": [
    "glimpse(all_trips)\n",
    "nrow(all_trips)\n",
    "summary(all_trips)"
   ]
  },
  {
   "cell_type": "markdown",
   "id": "8b9eb085",
   "metadata": {
    "papermill": {
     "duration": 0.034369,
     "end_time": "2021-05-02T22:01:04.881918",
     "exception": false,
     "start_time": "2021-05-02T22:01:04.847549",
     "status": "completed"
    },
    "tags": []
   },
   "source": [
    "## Renaming data for consistency\n",
    "Changing Subsriber to member & Customer to casual\n"
   ]
  },
  {
   "cell_type": "code",
   "execution_count": 10,
   "id": "3123b4af",
   "metadata": {
    "execution": {
     "iopub.execute_input": "2021-05-02T22:01:04.955401Z",
     "iopub.status.busy": "2021-05-02T22:01:04.954225Z",
     "iopub.status.idle": "2021-05-02T22:01:07.963942Z",
     "shell.execute_reply": "2021-05-02T22:01:07.962708Z"
    },
    "papermill": {
     "duration": 3.04861,
     "end_time": "2021-05-02T22:01:07.964123",
     "exception": false,
     "start_time": "2021-05-02T22:01:04.915513",
     "status": "completed"
    },
    "tags": []
   },
   "outputs": [],
   "source": [
    "all_trips$member_casual <- gsub(\"Subscriber\",\"member\", all_trips$member_casual)\n",
    "all_trips$member_casual <- gsub(\"Customer\",\"casual\", all_trips$member_casual)"
   ]
  },
  {
   "cell_type": "code",
   "execution_count": 11,
   "id": "f4675e29",
   "metadata": {
    "execution": {
     "iopub.execute_input": "2021-05-02T22:01:08.040621Z",
     "iopub.status.busy": "2021-05-02T22:01:08.039047Z",
     "iopub.status.idle": "2021-05-02T22:01:08.138008Z",
     "shell.execute_reply": "2021-05-02T22:01:08.136686Z"
    },
    "papermill": {
     "duration": 0.137681,
     "end_time": "2021-05-02T22:01:08.138146",
     "exception": false,
     "start_time": "2021-05-02T22:01:08.000465",
     "status": "completed"
    },
    "tags": []
   },
   "outputs": [
    {
     "data": {
      "text/html": [
       "<ol class=list-inline>\n",
       "\t<li>'member'</li>\n",
       "\t<li>'casual'</li>\n",
       "</ol>\n"
      ],
      "text/latex": [
       "\\begin{enumerate*}\n",
       "\\item 'member'\n",
       "\\item 'casual'\n",
       "\\end{enumerate*}\n"
      ],
      "text/markdown": [
       "1. 'member'\n",
       "2. 'casual'\n",
       "\n",
       "\n"
      ],
      "text/plain": [
       "[1] \"member\" \"casual\""
      ]
     },
     "metadata": {},
     "output_type": "display_data"
    }
   ],
   "source": [
    "unique(all_trips$member_casual)"
   ]
  },
  {
   "cell_type": "markdown",
   "id": "4c5e4574",
   "metadata": {
    "papermill": {
     "duration": 0.034807,
     "end_time": "2021-05-02T22:01:08.207794",
     "exception": false,
     "start_time": "2021-05-02T22:01:08.172987",
     "status": "completed"
    },
    "tags": []
   },
   "source": [
    "## Adding columtns for date and time analysis"
   ]
  },
  {
   "cell_type": "code",
   "execution_count": 12,
   "id": "6ee650f5",
   "metadata": {
    "execution": {
     "iopub.execute_input": "2021-05-02T22:01:08.281541Z",
     "iopub.status.busy": "2021-05-02T22:01:08.280167Z",
     "iopub.status.idle": "2021-05-02T22:01:14.855196Z",
     "shell.execute_reply": "2021-05-02T22:01:14.853878Z"
    },
    "papermill": {
     "duration": 6.613374,
     "end_time": "2021-05-02T22:01:14.855526",
     "exception": false,
     "start_time": "2021-05-02T22:01:08.242152",
     "status": "completed"
    },
    "tags": []
   },
   "outputs": [],
   "source": [
    "all_trips$date <- as.Date(all_trips$started_at) \n",
    "all_trips$month <- format(as.Date(all_trips$date), \"%m\")\n",
    "all_trips$day <- format(as.Date(all_trips$date), \"%d\")\n",
    "all_trips$year <- format(as.Date(all_trips$date), \"%Y\")\n",
    "all_trips$day_of_week <- format(as.Date(all_trips$date), \"%A\")\n",
    "all_trips$ride_length <- difftime(all_trips$ended_at,all_trips$started_at)\n",
    "all_trips$ride_length_min <- difftime(all_trips$ended_at,all_trips$started_at)/60"
   ]
  },
  {
   "cell_type": "code",
   "execution_count": 13,
   "id": "22d93e5d",
   "metadata": {
    "execution": {
     "iopub.execute_input": "2021-05-02T22:01:14.930520Z",
     "iopub.status.busy": "2021-05-02T22:01:14.929202Z",
     "iopub.status.idle": "2021-05-02T22:01:26.093526Z",
     "shell.execute_reply": "2021-05-02T22:01:26.091527Z"
    },
    "papermill": {
     "duration": 11.203501,
     "end_time": "2021-05-02T22:01:26.093994",
     "exception": false,
     "start_time": "2021-05-02T22:01:14.890493",
     "status": "completed"
    },
    "tags": []
   },
   "outputs": [
    {
     "data": {
      "text/html": [
       "FALSE"
      ],
      "text/latex": [
       "FALSE"
      ],
      "text/markdown": [
       "FALSE"
      ],
      "text/plain": [
       "[1] FALSE"
      ]
     },
     "metadata": {},
     "output_type": "display_data"
    },
    {
     "data": {
      "text/html": [
       "TRUE"
      ],
      "text/latex": [
       "TRUE"
      ],
      "text/markdown": [
       "TRUE"
      ],
      "text/plain": [
       "[1] TRUE"
      ]
     },
     "metadata": {},
     "output_type": "display_data"
    },
    {
     "data": {
      "text/html": [
       "TRUE"
      ],
      "text/latex": [
       "TRUE"
      ],
      "text/markdown": [
       "TRUE"
      ],
      "text/plain": [
       "[1] TRUE"
      ]
     },
     "metadata": {},
     "output_type": "display_data"
    }
   ],
   "source": [
    "is.factor(all_trips$ride_length)\n",
    "all_trips$ride_length <- as.numeric(as.character(all_trips$ride_length))\n",
    "is.numeric(all_trips$ride_length)\n",
    "all_trips$ride_length_min <- as.numeric(as.character(all_trips$ride_length_min))\n",
    "is.numeric(all_trips$ride_length_min)\n"
   ]
  },
  {
   "cell_type": "markdown",
   "id": "98b214e7",
   "metadata": {
    "papermill": {
     "duration": 0.037276,
     "end_time": "2021-05-02T22:01:26.168406",
     "exception": false,
     "start_time": "2021-05-02T22:01:26.131130",
     "status": "completed"
    },
    "tags": []
   },
   "source": [
    "## Removing maintenance trips and trips less with no length from the dataset"
   ]
  },
  {
   "cell_type": "code",
   "execution_count": 14,
   "id": "c3b708f4",
   "metadata": {
    "execution": {
     "iopub.execute_input": "2021-05-02T22:01:26.249214Z",
     "iopub.status.busy": "2021-05-02T22:01:26.247483Z",
     "iopub.status.idle": "2021-05-02T22:01:26.748401Z",
     "shell.execute_reply": "2021-05-02T22:01:26.747104Z"
    },
    "papermill": {
     "duration": 0.542343,
     "end_time": "2021-05-02T22:01:26.748544",
     "exception": false,
     "start_time": "2021-05-02T22:01:26.206201",
     "status": "completed"
    },
    "tags": []
   },
   "outputs": [],
   "source": [
    "all_trips_v2 <- all_trips[!(all_trips$start_station_name == \"HQ QR\" | all_trips$ride_length<0),]\n"
   ]
  },
  {
   "cell_type": "code",
   "execution_count": 15,
   "id": "39bc57e9",
   "metadata": {
    "execution": {
     "iopub.execute_input": "2021-05-02T22:01:26.829626Z",
     "iopub.status.busy": "2021-05-02T22:01:26.827940Z",
     "iopub.status.idle": "2021-05-02T22:01:39.518567Z",
     "shell.execute_reply": "2021-05-02T22:01:39.516990Z"
    },
    "papermill": {
     "duration": 12.732905,
     "end_time": "2021-05-02T22:01:39.518713",
     "exception": false,
     "start_time": "2021-05-02T22:01:26.785808",
     "status": "completed"
    },
    "tags": []
   },
   "outputs": [
    {
     "data": {
      "text/plain": [
       "   ride_id            started_at                     ended_at                  \n",
       " Length:3876042     Min.   :2019-04-01 00:02:22   Min.   :2019-04-01 00:09:48  \n",
       " Class :character   1st Qu.:2019-06-22 23:44:33   1st Qu.:2019-06-23 00:16:46  \n",
       " Mode  :character   Median :2019-08-14 16:56:35   Median :2019-08-14 17:15:04  \n",
       "                    Mean   :2019-08-25 20:15:33   Mean   :2019-08-25 20:40:12  \n",
       "                    3rd Qu.:2019-10-11 23:23:20   3rd Qu.:2019-10-12 00:26:13  \n",
       "                    Max.   :2020-03-31 23:51:34   Max.   :2020-05-19 20:10:34  \n",
       " rideable_type      start_station_id start_station_name end_station_id \n",
       " Length:3876042     Min.   :  1.0    Length:3876042     Min.   :  1.0  \n",
       " Class :character   1st Qu.: 77.0    Class :character   1st Qu.: 77.0  \n",
       " Mode  :character   Median :174.0    Mode  :character   Median :174.0  \n",
       "                    Mean   :202.4                       Mean   :203.3  \n",
       "                    3rd Qu.:290.0                       3rd Qu.:291.0  \n",
       "                    Max.   :673.0                       Max.   :675.0  \n",
       " end_station_name   member_casual           date               month          \n",
       " Length:3876042     Length:3876042     Min.   :2019-04-01   Length:3876042    \n",
       " Class :character   Class :character   1st Qu.:2019-06-22   Class :character  \n",
       " Mode  :character   Mode  :character   Median :2019-08-14   Mode  :character  \n",
       "                                       Mean   :2019-08-25                     \n",
       "                                       3rd Qu.:2019-10-11                     \n",
       "                                       Max.   :2020-03-31                     \n",
       "     day                year           day_of_week         ride_length     \n",
       " Length:3876042     Length:3876042     Length:3876042     Min.   :      1  \n",
       " Class :character   Class :character   Class :character   1st Qu.:    412  \n",
       " Mode  :character   Mode  :character   Mode  :character   Median :    712  \n",
       "                                                          Mean   :   1479  \n",
       "                                                          3rd Qu.:   1289  \n",
       "                                                          Max.   :9387024  \n",
       " ride_length_min    \n",
       " Min.   :     0.02  \n",
       " 1st Qu.:     6.87  \n",
       " Median :    11.87  \n",
       " Mean   :    24.65  \n",
       " 3rd Qu.:    21.48  \n",
       " Max.   :156450.40  "
      ]
     },
     "metadata": {},
     "output_type": "display_data"
    }
   ],
   "source": [
    "summary(all_trips_v2)"
   ]
  },
  {
   "cell_type": "code",
   "execution_count": 16,
   "id": "c352d3a2",
   "metadata": {
    "execution": {
     "iopub.execute_input": "2021-05-02T22:01:39.600831Z",
     "iopub.status.busy": "2021-05-02T22:01:39.599443Z",
     "iopub.status.idle": "2021-05-02T22:01:48.891232Z",
     "shell.execute_reply": "2021-05-02T22:01:48.889578Z"
    },
    "papermill": {
     "duration": 9.334205,
     "end_time": "2021-05-02T22:01:48.891477",
     "exception": false,
     "start_time": "2021-05-02T22:01:39.557272",
     "status": "completed"
    },
    "tags": []
   },
   "outputs": [
    {
     "data": {
      "text/html": [
       "<table>\n",
       "<thead><tr><th scope=col>all_trips_v2$member_casual</th><th scope=col>all_trips_v2$ride_length</th></tr></thead>\n",
       "<tbody>\n",
       "\t<tr><td>casual   </td><td>3552.7502</td></tr>\n",
       "\t<tr><td>member   </td><td> 850.0662</td></tr>\n",
       "</tbody>\n",
       "</table>\n"
      ],
      "text/latex": [
       "\\begin{tabular}{r|ll}\n",
       " all\\_trips\\_v2\\$member\\_casual & all\\_trips\\_v2\\$ride\\_length\\\\\n",
       "\\hline\n",
       "\t casual    & 3552.7502\\\\\n",
       "\t member    &  850.0662\\\\\n",
       "\\end{tabular}\n"
      ],
      "text/markdown": [
       "\n",
       "| all_trips_v2$member_casual | all_trips_v2$ride_length |\n",
       "|---|---|\n",
       "| casual    | 3552.7502 |\n",
       "| member    |  850.0662 |\n",
       "\n"
      ],
      "text/plain": [
       "  all_trips_v2$member_casual all_trips_v2$ride_length\n",
       "1 casual                     3552.7502               \n",
       "2 member                      850.0662               "
      ]
     },
     "metadata": {},
     "output_type": "display_data"
    },
    {
     "data": {
      "text/html": [
       "<table>\n",
       "<thead><tr><th scope=col>all_trips_v2$member_casual</th><th scope=col>all_trips_v2$ride_length</th></tr></thead>\n",
       "<tbody>\n",
       "\t<tr><td>casual</td><td>1546  </td></tr>\n",
       "\t<tr><td>member</td><td> 589  </td></tr>\n",
       "</tbody>\n",
       "</table>\n"
      ],
      "text/latex": [
       "\\begin{tabular}{r|ll}\n",
       " all\\_trips\\_v2\\$member\\_casual & all\\_trips\\_v2\\$ride\\_length\\\\\n",
       "\\hline\n",
       "\t casual & 1546  \\\\\n",
       "\t member &  589  \\\\\n",
       "\\end{tabular}\n"
      ],
      "text/markdown": [
       "\n",
       "| all_trips_v2$member_casual | all_trips_v2$ride_length |\n",
       "|---|---|\n",
       "| casual | 1546   |\n",
       "| member |  589   |\n",
       "\n"
      ],
      "text/plain": [
       "  all_trips_v2$member_casual all_trips_v2$ride_length\n",
       "1 casual                     1546                    \n",
       "2 member                      589                    "
      ]
     },
     "metadata": {},
     "output_type": "display_data"
    },
    {
     "data": {
      "text/html": [
       "<table>\n",
       "<thead><tr><th scope=col>all_trips_v2$member_casual</th><th scope=col>all_trips_v2$ride_length</th></tr></thead>\n",
       "<tbody>\n",
       "\t<tr><td>casual </td><td>9387024</td></tr>\n",
       "\t<tr><td>member </td><td>9056634</td></tr>\n",
       "</tbody>\n",
       "</table>\n"
      ],
      "text/latex": [
       "\\begin{tabular}{r|ll}\n",
       " all\\_trips\\_v2\\$member\\_casual & all\\_trips\\_v2\\$ride\\_length\\\\\n",
       "\\hline\n",
       "\t casual  & 9387024\\\\\n",
       "\t member  & 9056634\\\\\n",
       "\\end{tabular}\n"
      ],
      "text/markdown": [
       "\n",
       "| all_trips_v2$member_casual | all_trips_v2$ride_length |\n",
       "|---|---|\n",
       "| casual  | 9387024 |\n",
       "| member  | 9056634 |\n",
       "\n"
      ],
      "text/plain": [
       "  all_trips_v2$member_casual all_trips_v2$ride_length\n",
       "1 casual                     9387024                 \n",
       "2 member                     9056634                 "
      ]
     },
     "metadata": {},
     "output_type": "display_data"
    },
    {
     "data": {
      "text/html": [
       "<table>\n",
       "<thead><tr><th scope=col>all_trips_v2$member_casual</th><th scope=col>all_trips_v2$ride_length</th></tr></thead>\n",
       "<tbody>\n",
       "\t<tr><td>casual</td><td>2     </td></tr>\n",
       "\t<tr><td>member</td><td>1     </td></tr>\n",
       "</tbody>\n",
       "</table>\n"
      ],
      "text/latex": [
       "\\begin{tabular}{r|ll}\n",
       " all\\_trips\\_v2\\$member\\_casual & all\\_trips\\_v2\\$ride\\_length\\\\\n",
       "\\hline\n",
       "\t casual & 2     \\\\\n",
       "\t member & 1     \\\\\n",
       "\\end{tabular}\n"
      ],
      "text/markdown": [
       "\n",
       "| all_trips_v2$member_casual | all_trips_v2$ride_length |\n",
       "|---|---|\n",
       "| casual | 2      |\n",
       "| member | 1      |\n",
       "\n"
      ],
      "text/plain": [
       "  all_trips_v2$member_casual all_trips_v2$ride_length\n",
       "1 casual                     2                       \n",
       "2 member                     1                       "
      ]
     },
     "metadata": {},
     "output_type": "display_data"
    }
   ],
   "source": [
    "aggregate(all_trips_v2$ride_length ~ all_trips_v2$member_casual, FUN = mean)\n",
    "aggregate(all_trips_v2$ride_length ~ all_trips_v2$member_casual, FUN = median)\n",
    "aggregate(all_trips_v2$ride_length ~ all_trips_v2$member_casual, FUN = max)\n",
    "aggregate(all_trips_v2$ride_length ~ all_trips_v2$member_casual, FUN = min)\n"
   ]
  },
  {
   "cell_type": "markdown",
   "id": "ba89432e",
   "metadata": {
    "papermill": {
     "duration": 0.04746,
     "end_time": "2021-05-02T22:01:48.980090",
     "exception": false,
     "start_time": "2021-05-02T22:01:48.932630",
     "status": "completed"
    },
    "tags": []
   },
   "source": [
    "##Analyzing rides by day of week\n",
    "* Total number of rides comparing Members to Casual riders\n",
    "* Average trip duration comparing Members to Casual riders"
   ]
  },
  {
   "cell_type": "code",
   "execution_count": 17,
   "id": "54d4fa2d",
   "metadata": {
    "execution": {
     "iopub.execute_input": "2021-05-02T22:01:49.067135Z",
     "iopub.status.busy": "2021-05-02T22:01:49.065325Z",
     "iopub.status.idle": "2021-05-02T22:01:53.262690Z",
     "shell.execute_reply": "2021-05-02T22:01:53.261312Z"
    },
    "papermill": {
     "duration": 4.242535,
     "end_time": "2021-05-02T22:01:53.262842",
     "exception": false,
     "start_time": "2021-05-02T22:01:49.020307",
     "status": "completed"
    },
    "tags": []
   },
   "outputs": [
    {
     "data": {
      "text/html": [
       "<table>\n",
       "<thead><tr><th scope=col>member_casual</th><th scope=col>weekday</th><th scope=col>number_of_rides</th><th scope=col>average_duration</th></tr></thead>\n",
       "<tbody>\n",
       "\t<tr><td>casual  </td><td>Sun     </td><td>181293  </td><td>59.69009</td></tr>\n",
       "\t<tr><td>casual  </td><td>Mon     </td><td>103296  </td><td>56.20478</td></tr>\n",
       "\t<tr><td>casual  </td><td>Tue     </td><td> 90510  </td><td>59.93933</td></tr>\n",
       "\t<tr><td>casual  </td><td>Wed     </td><td> 92457  </td><td>61.97770</td></tr>\n",
       "\t<tr><td>casual  </td><td>Thu     </td><td>102679  </td><td>61.38308</td></tr>\n",
       "\t<tr><td>casual  </td><td>Fri     </td><td>122404  </td><td>62.89725</td></tr>\n",
       "</tbody>\n",
       "</table>\n"
      ],
      "text/latex": [
       "\\begin{tabular}{r|llll}\n",
       " member\\_casual & weekday & number\\_of\\_rides & average\\_duration\\\\\n",
       "\\hline\n",
       "\t casual   & Sun      & 181293   & 59.69009\\\\\n",
       "\t casual   & Mon      & 103296   & 56.20478\\\\\n",
       "\t casual   & Tue      &  90510   & 59.93933\\\\\n",
       "\t casual   & Wed      &  92457   & 61.97770\\\\\n",
       "\t casual   & Thu      & 102679   & 61.38308\\\\\n",
       "\t casual   & Fri      & 122404   & 62.89725\\\\\n",
       "\\end{tabular}\n"
      ],
      "text/markdown": [
       "\n",
       "| member_casual | weekday | number_of_rides | average_duration |\n",
       "|---|---|---|---|\n",
       "| casual   | Sun      | 181293   | 59.69009 |\n",
       "| casual   | Mon      | 103296   | 56.20478 |\n",
       "| casual   | Tue      |  90510   | 59.93933 |\n",
       "| casual   | Wed      |  92457   | 61.97770 |\n",
       "| casual   | Thu      | 102679   | 61.38308 |\n",
       "| casual   | Fri      | 122404   | 62.89725 |\n",
       "\n"
      ],
      "text/plain": [
       "  member_casual weekday number_of_rides average_duration\n",
       "1 casual        Sun     181293          59.69009        \n",
       "2 casual        Mon     103296          56.20478        \n",
       "3 casual        Tue      90510          59.93933        \n",
       "4 casual        Wed      92457          61.97770        \n",
       "5 casual        Thu     102679          61.38308        \n",
       "6 casual        Fri     122404          62.89725        "
      ]
     },
     "metadata": {},
     "output_type": "display_data"
    }
   ],
   "source": [
    "total_rides <- all_trips_v2 %>% \n",
    "    mutate(weekday = wday(started_at, label = TRUE)) %>%\n",
    "    group_by(member_casual, weekday) %>%\n",
    "    summarise(number_of_rides = n(), average_duration = mean(ride_length_min)) %>%\n",
    "    arrange(member_casual, weekday)\n",
    "write.csv(total_rides, \"total_rides_min.csv\")\n",
    "head(total_rides)"
   ]
  },
  {
   "cell_type": "code",
   "execution_count": 18,
   "id": "3c7ce5e2",
   "metadata": {
    "execution": {
     "iopub.execute_input": "2021-05-02T22:01:53.352599Z",
     "iopub.status.busy": "2021-05-02T22:01:53.350672Z",
     "iopub.status.idle": "2021-05-02T22:01:53.381180Z",
     "shell.execute_reply": "2021-05-02T22:01:53.379373Z"
    },
    "papermill": {
     "duration": 0.07628,
     "end_time": "2021-05-02T22:01:53.381344",
     "exception": false,
     "start_time": "2021-05-02T22:01:53.305064",
     "status": "completed"
    },
    "tags": []
   },
   "outputs": [
    {
     "name": "stderr",
     "output_type": "stream",
     "text": [
      "\n",
      "Attaching package: ‘scales’\n",
      "\n",
      "The following object is masked from ‘package:purrr’:\n",
      "\n",
      "    discard\n",
      "\n",
      "The following object is masked from ‘package:readr’:\n",
      "\n",
      "    col_factor\n",
      "\n"
     ]
    }
   ],
   "source": [
    "library(scales)"
   ]
  },
  {
   "cell_type": "code",
   "execution_count": 19,
   "id": "4520d049",
   "metadata": {
    "execution": {
     "iopub.execute_input": "2021-05-02T22:01:53.474266Z",
     "iopub.status.busy": "2021-05-02T22:01:53.472636Z",
     "iopub.status.idle": "2021-05-02T22:01:55.945001Z",
     "shell.execute_reply": "2021-05-02T22:01:55.944100Z"
    },
    "papermill": {
     "duration": 2.519622,
     "end_time": "2021-05-02T22:01:55.945220",
     "exception": false,
     "start_time": "2021-05-02T22:01:53.425598",
     "status": "completed"
    },
    "tags": []
   },
   "outputs": [
    {
     "name": "stderr",
     "output_type": "stream",
     "text": [
      "Saving 6.67 x 6.67 in image\n",
      "Saving 6.67 x 6.67 in image\n"
     ]
    },
    {
     "data": {
      "image/png": "[encoded data removed]",
      "text/plain": [
       "plot without title"
      ]
     },
     "metadata": {},
     "output_type": "display_data"
    },
    {
     "data": {
      "image/png": "[encoded data removed]",
      "text/plain": [
       "plot without title"
      ]
     },
     "metadata": {},
     "output_type": "display_data"
    }
   ],
   "source": [
    "avg_duration_plot <- ggplot(total_rides, aes(x = weekday, y = average_duration, fill = member_casual, color = member_casual)) +\n",
    "    geom_bar(stat = 'identity')+\n",
    "    labs(title = \"Average Trip Length by Weekday\", subtitle = \"Comparing Members vs. Casual riders\", x = \"Weekday\", y = \"Average trip length (mins)\", caption = \"Data from Q2 2019 - Q1 2020\")\n",
    "ggsave(\"avg_duration_plot.png\")\n",
    "avg_duration_plot\n",
    "num_rides_plot <- ggplot(total_rides, aes(x = weekday, y = number_of_rides, fill = member_casual, color = member_casual)) +\n",
    "    geom_bar(stat = 'identity') +\n",
    "    scale_y_continuous(labels = comma) +\n",
    "    labs(title = \"Total Number of Trips by Weekday\", subtitle = \"Comparing Members vs. Casual riders\", x = \"Weekday\", y = \"Total Trips (count)\", caption = \"Data from Q2 2019 - Q1 2020\")\n",
    "ggsave(\"num_rides_plot.png\")\n",
    "num_rides_plot"
   ]
  },
  {
   "cell_type": "markdown",
   "id": "b647ea2c",
   "metadata": {
    "papermill": {
     "duration": 0.045684,
     "end_time": "2021-05-02T22:01:56.038388",
     "exception": false,
     "start_time": "2021-05-02T22:01:55.992704",
     "status": "completed"
    },
    "tags": []
   },
   "source": [
    "### Observation of Day of the Week\n",
    "* Casual riders consistantly have a longer trip duration close to 80 mins; members trip durations stays under 20 mins.\n",
    "* Casual riders take more trips on the weekends; Members take more trips during the week. "
   ]
  },
  {
   "cell_type": "code",
   "execution_count": 20,
   "id": "fd309448",
   "metadata": {
    "execution": {
     "iopub.execute_input": "2021-05-02T22:01:56.137761Z",
     "iopub.status.busy": "2021-05-02T22:01:56.136037Z",
     "iopub.status.idle": "2021-05-02T22:01:56.776414Z",
     "shell.execute_reply": "2021-05-02T22:01:56.774798Z"
    },
    "papermill": {
     "duration": 0.690689,
     "end_time": "2021-05-02T22:01:56.776567",
     "exception": false,
     "start_time": "2021-05-02T22:01:56.085878",
     "status": "completed"
    },
    "tags": []
   },
   "outputs": [
    {
     "name": "stdout",
     "output_type": "stream",
     "text": [
      "# A tibble: 48 x 4\n",
      "# Groups:   member_casual [2]\n",
      "   member_casual hour  number_of_rides average_duration\n",
      "   <chr>         <fct>           <int>            <dbl>\n",
      " 1 casual        0                8363            104. \n",
      " 2 casual        1                5495            104. \n",
      " 3 casual        2                3361            104. \n",
      " 4 casual        3                1982            170. \n",
      " 5 casual        4                1196            127. \n",
      " 6 casual        5                2690             99.0\n",
      " 7 casual        6                6291             66.4\n",
      " 8 casual        7               13302             32.2\n",
      " 9 casual        8               22304             54.8\n",
      "10 casual        9               29057             68.2\n",
      "# … with 38 more rows\n"
     ]
    }
   ],
   "source": [
    "total_rides_hour <- all_trips_v2 %>% \n",
    "    mutate(hour = as.factor(hour(started_at))) %>%\n",
    "    group_by(member_casual, hour) %>%\n",
    "    summarise(number_of_rides = n(), average_duration = mean(ride_length_min)) %>%\n",
    "    arrange(member_casual, hour)\n",
    "\n",
    "print(total_rides_hour)\n",
    "write.csv(total_rides_hour,\"total_ride_hour.csv\")\n"
   ]
  },
  {
   "cell_type": "code",
   "execution_count": 21,
   "id": "039fd638",
   "metadata": {
    "execution": {
     "iopub.execute_input": "2021-05-02T22:01:56.880068Z",
     "iopub.status.busy": "2021-05-02T22:01:56.878283Z",
     "iopub.status.idle": "2021-05-02T22:01:57.851670Z",
     "shell.execute_reply": "2021-05-02T22:01:57.850534Z"
    },
    "papermill": {
     "duration": 1.026447,
     "end_time": "2021-05-02T22:01:57.851827",
     "exception": false,
     "start_time": "2021-05-02T22:01:56.825380",
     "status": "completed"
    },
    "tags": []
   },
   "outputs": [
    {
     "name": "stderr",
     "output_type": "stream",
     "text": [
      "Saving 6.67 x 6.67 in image\n"
     ]
    },
    {
     "data": {
      "image/png": "[encoded data removed]",
      "text/plain": [
       "plot without title"
      ]
     },
     "metadata": {},
     "output_type": "display_data"
    }
   ],
   "source": [
    "trip_time_plot <- ggplot(data = total_rides_hour) +\n",
    "    geom_line(mapping = aes(x = hour, y = number_of_rides, group = member_casual, color = member_casual)) + \n",
    "    scale_y_continuous(labels = comma) +\n",
    "    labs(title = \"Total Number of Trips by Time of Day\",\n",
    "        subtitle = \"Comparing Members vs. Casual Riders\",\n",
    "        caption = \"Data from Q2 2019 - Q1 2020\",\n",
    "        x = \"Hour(24)\",\n",
    "        y = \"Total Trips (count)\")\n",
    "ggsave(\"trip_time_plot.png\")\n",
    "trip_time_plot\n"
   ]
  },
  {
   "cell_type": "markdown",
   "id": "c7ac1d0a",
   "metadata": {
    "papermill": {
     "duration": 0.049873,
     "end_time": "2021-05-02T22:01:57.953342",
     "exception": false,
     "start_time": "2021-05-02T22:01:57.903469",
     "status": "completed"
    },
    "tags": []
   },
   "source": [
    "### Observations\n",
    "Members ride most 6am - 9am & 3pm - 6pm\n",
    "Casual riders have more consistent rides between 10am - 8pm with the highest ridership between noon & 5pm"
   ]
  },
  {
   "cell_type": "markdown",
   "id": "dba0d9cd",
   "metadata": {
    "papermill": {
     "duration": 0.049843,
     "end_time": "2021-05-02T22:01:58.054087",
     "exception": false,
     "start_time": "2021-05-02T22:01:58.004244",
     "status": "completed"
    },
    "tags": []
   },
   "source": [
    "# Conclusion\n",
    "Casual riders are more frequent on the weekends between 12pm and 5pm, taking trips on average of four times longer than members"
   ]
  },
  {
   "cell_type": "markdown",
   "id": "152ed762",
   "metadata": {
    "papermill": {
     "duration": 0.049857,
     "end_time": "2021-05-02T22:01:58.153902",
     "exception": false,
     "start_time": "2021-05-02T22:01:58.104045",
     "status": "completed"
    },
    "tags": []
   },
   "source": [
    "# Next Steps\n",
    "* Analyze any outliers for long trips. This data shows trips lasting days. Match with policies of bike return to reanalyze averages.\n",
    "* Look at the most popular stations for Casual riders\n",
    "* Measure the cost difference for the average casual ride vs member rides."
   ]
  },
  {
   "cell_type": "markdown",
   "id": "6a227086",
   "metadata": {
    "papermill": {
     "duration": 0.050161,
     "end_time": "2021-05-02T22:01:58.254631",
     "exception": false,
     "start_time": "2021-05-02T22:01:58.204470",
     "status": "completed"
    },
    "tags": []
   },
   "source": [
    "## Possible further analysis to look at most popular stations"
   ]
  },
  {
   "cell_type": "code",
   "execution_count": 22,
   "id": "f881d5d5",
   "metadata": {
    "execution": {
     "iopub.execute_input": "2021-05-02T22:01:58.360992Z",
     "iopub.status.busy": "2021-05-02T22:01:58.359083Z",
     "iopub.status.idle": "2021-05-02T22:01:58.825907Z",
     "shell.execute_reply": "2021-05-02T22:01:58.824666Z"
    },
    "papermill": {
     "duration": 0.521303,
     "end_time": "2021-05-02T22:01:58.826118",
     "exception": false,
     "start_time": "2021-05-02T22:01:58.304815",
     "status": "completed"
    },
    "tags": []
   },
   "outputs": [
    {
     "data": {
      "text/html": [
       "<table>\n",
       "<thead><tr><th scope=col>member_casual</th><th scope=col>start_station_name</th><th scope=col>number_of_rides</th><th scope=col>average_duration</th></tr></thead>\n",
       "<tbody>\n",
       "\t<tr><td>casual                                                                </td><td><span style=white-space:pre-wrap>Streeter Dr &amp; Grand Ave   </span></td><td>53415                                                                 </td><td>49.13914                                                              </td></tr>\n",
       "\t<tr><td>casual                        </td><td>Lake Shore Dr &amp; Monroe St </td><td>39686                         </td><td>49.18074                      </td></tr>\n",
       "\t<tr><td>casual                    </td><td>Millennium Park           </td><td>21901                     </td><td>55.17666                  </td></tr>\n",
       "\t<tr><td>casual                                                                </td><td><span style=white-space:pre-wrap>Michigan Ave &amp; Oak St     </span></td><td>21633                                                                 </td><td>55.62247                                                              </td></tr>\n",
       "\t<tr><td>casual                    </td><td>Shedd Aquarium            </td><td>20781                     </td><td>37.67663                  </td></tr>\n",
       "\t<tr><td>casual                        </td><td>Lake Shore Dr &amp; North Blvd</td><td>19150                         </td><td>46.10948                      </td></tr>\n",
       "</tbody>\n",
       "</table>\n"
      ],
      "text/latex": [
       "\\begin{tabular}{r|llll}\n",
       " member\\_casual & start\\_station\\_name & number\\_of\\_rides & average\\_duration\\\\\n",
       "\\hline\n",
       "\t casual                       & Streeter Dr \\& Grand Ave    & 53415                        & 49.13914                    \\\\\n",
       "\t casual                       & Lake Shore Dr \\& Monroe St  & 39686                        & 49.18074                    \\\\\n",
       "\t casual                     & Millennium Park            & 21901                      & 55.17666                  \\\\\n",
       "\t casual                       & Michigan Ave \\& Oak St      & 21633                        & 55.62247                    \\\\\n",
       "\t casual                     & Shedd Aquarium             & 20781                      & 37.67663                  \\\\\n",
       "\t casual                       & Lake Shore Dr \\& North Blvd & 19150                        & 46.10948                    \\\\\n",
       "\\end{tabular}\n"
      ],
      "text/markdown": [
       "\n",
       "| member_casual | start_station_name | number_of_rides | average_duration |\n",
       "|---|---|---|---|\n",
       "| casual                     | Streeter Dr & Grand Ave    | 53415                      | 49.13914                   |\n",
       "| casual                     | Lake Shore Dr & Monroe St  | 39686                      | 49.18074                   |\n",
       "| casual                     | Millennium Park            | 21901                      | 55.17666                   |\n",
       "| casual                     | Michigan Ave & Oak St      | 21633                      | 55.62247                   |\n",
       "| casual                     | Shedd Aquarium             | 20781                      | 37.67663                   |\n",
       "| casual                     | Lake Shore Dr & North Blvd | 19150                      | 46.10948                   |\n",
       "\n"
      ],
      "text/plain": [
       "  member_casual start_station_name         number_of_rides average_duration\n",
       "1 casual        Streeter Dr & Grand Ave    53415           49.13914        \n",
       "2 casual        Lake Shore Dr & Monroe St  39686           49.18074        \n",
       "3 casual        Millennium Park            21901           55.17666        \n",
       "4 casual        Michigan Ave & Oak St      21633           55.62247        \n",
       "5 casual        Shedd Aquarium             20781           37.67663        \n",
       "6 casual        Lake Shore Dr & North Blvd 19150           46.10948        "
      ]
     },
     "metadata": {},
     "output_type": "display_data"
    }
   ],
   "source": [
    "total_rides_station <- all_trips_v2 %>% \n",
    "    group_by(member_casual, start_station_name) %>%\n",
    "    summarise(number_of_rides = n(), average_duration = mean(ride_length_min)) %>%\n",
    "    arrange(member_casual, -number_of_rides, start_station_name)\n",
    "head(total_rides_station)"
   ]
  },
  {
   "cell_type": "markdown",
   "id": "55982443",
   "metadata": {
    "papermill": {
     "duration": 0.052262,
     "end_time": "2021-05-02T22:01:58.931621",
     "exception": false,
     "start_time": "2021-05-02T22:01:58.879359",
     "status": "completed"
    },
    "tags": []
   },
   "source": [
    "## Looking at data by month"
   ]
  },
  {
   "cell_type": "code",
   "execution_count": 23,
   "id": "33fa87a8",
   "metadata": {
    "execution": {
     "iopub.execute_input": "2021-05-02T22:01:59.043771Z",
     "iopub.status.busy": "2021-05-02T22:01:59.042001Z",
     "iopub.status.idle": "2021-05-02T22:01:59.244992Z",
     "shell.execute_reply": "2021-05-02T22:01:59.243439Z"
    },
    "papermill": {
     "duration": 0.261081,
     "end_time": "2021-05-02T22:01:59.245157",
     "exception": false,
     "start_time": "2021-05-02T22:01:58.984076",
     "status": "completed"
    },
    "tags": []
   },
   "outputs": [
    {
     "name": "stdout",
     "output_type": "stream",
     "text": [
      "# A tibble: 24 x 4\n",
      "# Groups:   member_casual [2]\n",
      "   member_casual month number_of_rides average_duration\n",
      "   <chr>         <chr>           <int>            <dbl>\n",
      " 1 casual        01               7785            162. \n",
      " 2 casual        02              12314            133. \n",
      " 3 casual        03              24615             70.8\n",
      " 4 casual        04              47744             50.9\n",
      " 5 casual        05              81624             51.2\n",
      " 6 casual        06             130218             45.9\n",
      " 7 casual        07             175632             59.8\n",
      " 8 casual        08             186889             67.0\n",
      " 9 casual        09             129173             51.7\n",
      "10 casual        10              71035             59.0\n",
      "# … with 14 more rows\n"
     ]
    }
   ],
   "source": [
    "total_rides_month <- all_trips_v2 %>% \n",
    "    group_by(member_casual, month) %>%\n",
    "    summarise(number_of_rides = n(), average_duration = mean(ride_length_min)) %>%\n",
    "    arrange(member_casual, month)\n",
    "print(total_rides_month)\n",
    "write.csv(total_rides_month, \"total_rides_month.csv\")"
   ]
  },
  {
   "cell_type": "code",
   "execution_count": 24,
   "id": "ea4f46d3",
   "metadata": {
    "execution": {
     "iopub.execute_input": "2021-05-02T22:01:59.359311Z",
     "iopub.status.busy": "2021-05-02T22:01:59.357921Z",
     "iopub.status.idle": "2021-05-02T22:02:00.000171Z",
     "shell.execute_reply": "2021-05-02T22:01:59.999105Z"
    },
    "papermill": {
     "duration": 0.700534,
     "end_time": "2021-05-02T22:02:00.000343",
     "exception": false,
     "start_time": "2021-05-02T22:01:59.299809",
     "status": "completed"
    },
    "tags": []
   },
   "outputs": [
    {
     "data": {
      "image/png": "[encoded data removed]",
      "text/plain": [
       "plot without title"
      ]
     },
     "metadata": {},
     "output_type": "display_data"
    },
    {
     "data": {
      "image/png": "[encoded data removed]",
      "text/plain": [
       "plot without title"
      ]
     },
     "metadata": {},
     "output_type": "display_data"
    }
   ],
   "source": [
    "ggplot(data = total_rides_month) +\n",
    "    geom_line(mapping = aes(x = month, y = number_of_rides, group = member_casual, color = member_casual))\n",
    "ggplot(data = total_rides_month) +\n",
    "    geom_line(mapping = aes(x = month, y = average_duration, group = member_casual, color = member_casual))"
   ]
  },
  {
   "cell_type": "markdown",
   "id": "51cb92f5",
   "metadata": {
    "papermill": {
     "duration": 0.05965,
     "end_time": "2021-05-02T22:02:00.119270",
     "exception": false,
     "start_time": "2021-05-02T22:02:00.059620",
     "status": "completed"
    },
    "tags": []
   },
   "source": [
    "Months 4 - 12 are from 2019, while 1 - 3 are from 2020. This makes the chart not chronological and not the best visualization. Analyzing month rides would be most helpful with multiple full years of data.\n",
    "\n",
    "More data cleaning would be required to remove outliers."
   ]
  },
  {
   "cell_type": "code",
   "execution_count": null,
   "id": "8c932987",
   "metadata": {},
   "outputs": [],
   "source": []
  }
 ],
 "metadata": {
  "kernelspec": {
   "display_name": "R",
   "language": "R",
   "name": "ir"
  },
  "language_info": {
   "codemirror_mode": "r",
   "file_extension": ".r",
   "mimetype": "text/x-r-source",
   "name": "R",
   "pygments_lexer": "r",
   "version": "3.6.1"
  },
  "papermill": {
   "default_parameters": {},
   "duration": 92.849617,
   "end_time": "2021-05-02T22:02:00.388272",
   "environment_variables": {},
   "exception": null,
   "input_path": "__notebook__.ipynb",
   "output_path": "__notebook__.ipynb",
   "parameters": {},
   "start_time": "2021-05-02T22:00:27.538655",
   "version": "2.3.3"
  }
 },
 "nbformat": 4,
 "nbformat_minor": 5
}
